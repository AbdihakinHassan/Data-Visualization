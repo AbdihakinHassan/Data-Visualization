{
 "cells": [
  {
   "cell_type": "markdown",
   "metadata": {},
   "source": [
    "# Part I - Fordgobike Data Exploration\n",
    "## by Hassan Abdihakin\n",
    "\n",
    "## Introduction\n",
    "> the fordgobike dataset includes information about individual rides made in a bike-sharing system covering the greater San Francisco Bay area. contains 183412 rows 16 columns. among the columns are duration_sec,start_time,start_station_latitude,bike_share_for_all_trip,member_gender and age. for furher understanding on the data the link is here https://www.google.com/url?q=https%3A%2F%2Fvideo.udacity-data.com%2Ftopher%2F2020%2FOctober%2F5f91cf38_201902-fordgobike-tripdata%2F201902-fordgobike-tripdata.csv&sa=D&source=docs\n",
    "\n",
    "\n",
    "\n",
    "\n",
    "## Preliminary Wrangling\n"
   ]
  },
  {
   "cell_type": "code",
   "execution_count": 1,
   "metadata": {
    "slideshow": {
     "slide_type": "skip"
    }
   },
   "outputs": [],
   "source": [
    "# import all packages and set plots to be embedded inline\n",
    "import numpy as np\n",
    "import pandas as pd\n",
    "import matplotlib.pyplot as plt\n",
    "import seaborn as sb\n",
    "\n",
    "import warnings\n",
    "warnings.simplefilter(\"ignore\")\n",
    "%matplotlib inline"
   ]
  },
  {
   "cell_type": "code",
   "execution_count": 2,
   "metadata": {
    "scrolled": true,
    "slideshow": {
     "slide_type": "skip"
    }
   },
   "outputs": [
    {
     "data": {
      "text/html": [
       "<div>\n",
       "<style scoped>\n",
       "    .dataframe tbody tr th:only-of-type {\n",
       "        vertical-align: middle;\n",
       "    }\n",
       "\n",
       "    .dataframe tbody tr th {\n",
       "        vertical-align: top;\n",
       "    }\n",
       "\n",
       "    .dataframe thead th {\n",
       "        text-align: right;\n",
       "    }\n",
       "</style>\n",
       "<table border=\"1\" class=\"dataframe\">\n",
       "  <thead>\n",
       "    <tr style=\"text-align: right;\">\n",
       "      <th></th>\n",
       "      <th>duration_sec</th>\n",
       "      <th>start_time</th>\n",
       "      <th>end_time</th>\n",
       "      <th>start_station_id</th>\n",
       "      <th>start_station_name</th>\n",
       "      <th>start_station_latitude</th>\n",
       "      <th>start_station_longitude</th>\n",
       "      <th>end_station_id</th>\n",
       "      <th>end_station_name</th>\n",
       "      <th>end_station_latitude</th>\n",
       "      <th>end_station_longitude</th>\n",
       "      <th>bike_id</th>\n",
       "      <th>user_type</th>\n",
       "      <th>member_birth_year</th>\n",
       "      <th>member_gender</th>\n",
       "      <th>bike_share_for_all_trip</th>\n",
       "    </tr>\n",
       "  </thead>\n",
       "  <tbody>\n",
       "    <tr>\n",
       "      <th>0</th>\n",
       "      <td>52185</td>\n",
       "      <td>2019-02-28 17:32:10.1450</td>\n",
       "      <td>2019-03-01 08:01:55.9750</td>\n",
       "      <td>21.0</td>\n",
       "      <td>Montgomery St BART Station (Market St at 2nd St)</td>\n",
       "      <td>37.789625</td>\n",
       "      <td>-122.400811</td>\n",
       "      <td>13.0</td>\n",
       "      <td>Commercial St at Montgomery St</td>\n",
       "      <td>37.794231</td>\n",
       "      <td>-122.402923</td>\n",
       "      <td>4902</td>\n",
       "      <td>Customer</td>\n",
       "      <td>1984.0</td>\n",
       "      <td>Male</td>\n",
       "      <td>No</td>\n",
       "    </tr>\n",
       "    <tr>\n",
       "      <th>1</th>\n",
       "      <td>42521</td>\n",
       "      <td>2019-02-28 18:53:21.7890</td>\n",
       "      <td>2019-03-01 06:42:03.0560</td>\n",
       "      <td>23.0</td>\n",
       "      <td>The Embarcadero at Steuart St</td>\n",
       "      <td>37.791464</td>\n",
       "      <td>-122.391034</td>\n",
       "      <td>81.0</td>\n",
       "      <td>Berry St at 4th St</td>\n",
       "      <td>37.775880</td>\n",
       "      <td>-122.393170</td>\n",
       "      <td>2535</td>\n",
       "      <td>Customer</td>\n",
       "      <td>NaN</td>\n",
       "      <td>NaN</td>\n",
       "      <td>No</td>\n",
       "    </tr>\n",
       "    <tr>\n",
       "      <th>2</th>\n",
       "      <td>61854</td>\n",
       "      <td>2019-02-28 12:13:13.2180</td>\n",
       "      <td>2019-03-01 05:24:08.1460</td>\n",
       "      <td>86.0</td>\n",
       "      <td>Market St at Dolores St</td>\n",
       "      <td>37.769305</td>\n",
       "      <td>-122.426826</td>\n",
       "      <td>3.0</td>\n",
       "      <td>Powell St BART Station (Market St at 4th St)</td>\n",
       "      <td>37.786375</td>\n",
       "      <td>-122.404904</td>\n",
       "      <td>5905</td>\n",
       "      <td>Customer</td>\n",
       "      <td>1972.0</td>\n",
       "      <td>Male</td>\n",
       "      <td>No</td>\n",
       "    </tr>\n",
       "    <tr>\n",
       "      <th>3</th>\n",
       "      <td>36490</td>\n",
       "      <td>2019-02-28 17:54:26.0100</td>\n",
       "      <td>2019-03-01 04:02:36.8420</td>\n",
       "      <td>375.0</td>\n",
       "      <td>Grove St at Masonic Ave</td>\n",
       "      <td>37.774836</td>\n",
       "      <td>-122.446546</td>\n",
       "      <td>70.0</td>\n",
       "      <td>Central Ave at Fell St</td>\n",
       "      <td>37.773311</td>\n",
       "      <td>-122.444293</td>\n",
       "      <td>6638</td>\n",
       "      <td>Subscriber</td>\n",
       "      <td>1989.0</td>\n",
       "      <td>Other</td>\n",
       "      <td>No</td>\n",
       "    </tr>\n",
       "    <tr>\n",
       "      <th>4</th>\n",
       "      <td>1585</td>\n",
       "      <td>2019-02-28 23:54:18.5490</td>\n",
       "      <td>2019-03-01 00:20:44.0740</td>\n",
       "      <td>7.0</td>\n",
       "      <td>Frank H Ogawa Plaza</td>\n",
       "      <td>37.804562</td>\n",
       "      <td>-122.271738</td>\n",
       "      <td>222.0</td>\n",
       "      <td>10th Ave at E 15th St</td>\n",
       "      <td>37.792714</td>\n",
       "      <td>-122.248780</td>\n",
       "      <td>4898</td>\n",
       "      <td>Subscriber</td>\n",
       "      <td>1974.0</td>\n",
       "      <td>Male</td>\n",
       "      <td>Yes</td>\n",
       "    </tr>\n",
       "  </tbody>\n",
       "</table>\n",
       "</div>"
      ],
      "text/plain": [
       "   duration_sec                start_time                  end_time  \\\n",
       "0         52185  2019-02-28 17:32:10.1450  2019-03-01 08:01:55.9750   \n",
       "1         42521  2019-02-28 18:53:21.7890  2019-03-01 06:42:03.0560   \n",
       "2         61854  2019-02-28 12:13:13.2180  2019-03-01 05:24:08.1460   \n",
       "3         36490  2019-02-28 17:54:26.0100  2019-03-01 04:02:36.8420   \n",
       "4          1585  2019-02-28 23:54:18.5490  2019-03-01 00:20:44.0740   \n",
       "\n",
       "   start_station_id                                start_station_name  \\\n",
       "0              21.0  Montgomery St BART Station (Market St at 2nd St)   \n",
       "1              23.0                     The Embarcadero at Steuart St   \n",
       "2              86.0                           Market St at Dolores St   \n",
       "3             375.0                           Grove St at Masonic Ave   \n",
       "4               7.0                               Frank H Ogawa Plaza   \n",
       "\n",
       "   start_station_latitude  start_station_longitude  end_station_id  \\\n",
       "0               37.789625              -122.400811            13.0   \n",
       "1               37.791464              -122.391034            81.0   \n",
       "2               37.769305              -122.426826             3.0   \n",
       "3               37.774836              -122.446546            70.0   \n",
       "4               37.804562              -122.271738           222.0   \n",
       "\n",
       "                               end_station_name  end_station_latitude  \\\n",
       "0                Commercial St at Montgomery St             37.794231   \n",
       "1                            Berry St at 4th St             37.775880   \n",
       "2  Powell St BART Station (Market St at 4th St)             37.786375   \n",
       "3                        Central Ave at Fell St             37.773311   \n",
       "4                         10th Ave at E 15th St             37.792714   \n",
       "\n",
       "   end_station_longitude  bike_id   user_type  member_birth_year  \\\n",
       "0            -122.402923     4902    Customer             1984.0   \n",
       "1            -122.393170     2535    Customer                NaN   \n",
       "2            -122.404904     5905    Customer             1972.0   \n",
       "3            -122.444293     6638  Subscriber             1989.0   \n",
       "4            -122.248780     4898  Subscriber             1974.0   \n",
       "\n",
       "  member_gender bike_share_for_all_trip  \n",
       "0          Male                      No  \n",
       "1           NaN                      No  \n",
       "2          Male                      No  \n",
       "3         Other                      No  \n",
       "4          Male                     Yes  "
      ]
     },
     "execution_count": 2,
     "metadata": {},
     "output_type": "execute_result"
    }
   ],
   "source": [
    "# Load in your dataset  and saving in varaible df\n",
    "df=pd.read_csv('/Users/abdihakinhassan/Desktop/Data_viz/fordgobike-tripdata.csv')\n",
    "df.head()"
   ]
  },
  {
   "cell_type": "code",
   "execution_count": 3,
   "metadata": {
    "scrolled": false,
    "slideshow": {
     "slide_type": "skip"
    }
   },
   "outputs": [
    {
     "name": "stdout",
     "output_type": "stream",
     "text": [
      "(183412, 16)\n",
      "duration_sec                 int64\n",
      "start_time                  object\n",
      "end_time                    object\n",
      "start_station_id           float64\n",
      "start_station_name          object\n",
      "start_station_latitude     float64\n",
      "start_station_longitude    float64\n",
      "end_station_id             float64\n",
      "end_station_name            object\n",
      "end_station_latitude       float64\n",
      "end_station_longitude      float64\n",
      "bike_id                      int64\n",
      "user_type                   object\n",
      "member_birth_year          float64\n",
      "member_gender               object\n",
      "bike_share_for_all_trip     object\n",
      "dtype: object\n",
      "   duration_sec                start_time                  end_time  \\\n",
      "0         52185  2019-02-28 17:32:10.1450  2019-03-01 08:01:55.9750   \n",
      "1         42521  2019-02-28 18:53:21.7890  2019-03-01 06:42:03.0560   \n",
      "2         61854  2019-02-28 12:13:13.2180  2019-03-01 05:24:08.1460   \n",
      "3         36490  2019-02-28 17:54:26.0100  2019-03-01 04:02:36.8420   \n",
      "4          1585  2019-02-28 23:54:18.5490  2019-03-01 00:20:44.0740   \n",
      "\n",
      "   start_station_id                                start_station_name  \\\n",
      "0              21.0  Montgomery St BART Station (Market St at 2nd St)   \n",
      "1              23.0                     The Embarcadero at Steuart St   \n",
      "2              86.0                           Market St at Dolores St   \n",
      "3             375.0                           Grove St at Masonic Ave   \n",
      "4               7.0                               Frank H Ogawa Plaza   \n",
      "\n",
      "   start_station_latitude  start_station_longitude  end_station_id  \\\n",
      "0               37.789625              -122.400811            13.0   \n",
      "1               37.791464              -122.391034            81.0   \n",
      "2               37.769305              -122.426826             3.0   \n",
      "3               37.774836              -122.446546            70.0   \n",
      "4               37.804562              -122.271738           222.0   \n",
      "\n",
      "                               end_station_name  end_station_latitude  \\\n",
      "0                Commercial St at Montgomery St             37.794231   \n",
      "1                            Berry St at 4th St             37.775880   \n",
      "2  Powell St BART Station (Market St at 4th St)             37.786375   \n",
      "3                        Central Ave at Fell St             37.773311   \n",
      "4                         10th Ave at E 15th St             37.792714   \n",
      "\n",
      "   end_station_longitude  bike_id   user_type  member_birth_year  \\\n",
      "0            -122.402923     4902    Customer             1984.0   \n",
      "1            -122.393170     2535    Customer                NaN   \n",
      "2            -122.404904     5905    Customer             1972.0   \n",
      "3            -122.444293     6638  Subscriber             1989.0   \n",
      "4            -122.248780     4898  Subscriber             1974.0   \n",
      "\n",
      "  member_gender bike_share_for_all_trip  \n",
      "0          Male                      No  \n",
      "1           NaN                      No  \n",
      "2          Male                      No  \n",
      "3         Other                      No  \n",
      "4          Male                     Yes  \n"
     ]
    }
   ],
   "source": [
    "# high-level overview of data shape and composition\n",
    "print(df.shape)\n",
    "print(df.dtypes)\n",
    "print(df.head(5))"
   ]
  },
  {
   "cell_type": "markdown",
   "metadata": {
    "slideshow": {
     "slide_type": "skip"
    }
   },
   "source": [
    "## Cleaning Data"
   ]
  },
  {
   "cell_type": "markdown",
   "metadata": {
    "slideshow": {
     "slide_type": "skip"
    }
   },
   "source": [
    "\n",
    "before we do any thing , lets just tweak the data and correct some data qualities issues.\n",
    "\n",
    "1.start_time should be date type\n",
    "\n",
    "2.end_time should be date type\n",
    "\n",
    "3.create new column called duration_minutes\n",
    "\n",
    "4.create a column age from member_birth_year column\n",
    "\n",
    "5.member gender and user_type should be categorical\n",
    "\n",
    "6.drop unneccessary columns\n",
    "\n",
    "7.create columns of start_time_hour,end_time_hour,day_name\n",
    "\n",
    "8.drop nulls\n",
    "\n",
    "9.only take age, duration data that is below 80 and 60 respectively."
   ]
  },
  {
   "cell_type": "code",
   "execution_count": 4,
   "metadata": {
    "slideshow": {
     "slide_type": "skip"
    }
   },
   "outputs": [],
   "source": [
    "from datetime import datetime, date\n",
    "df['start_time']=pd.to_datetime(df.start_time)\n",
    "df['end_time']=pd.to_datetime(df.end_time)\n",
    "def tweak_df(df):\n",
    "    return(df\n",
    "          .assign(\n",
    "              \n",
    "              member_birth_year=pd.to_datetime(df.member_birth_year),\n",
    "              duration_minutes=df.duration_sec.apply(lambda x: x/60),\n",
    "              age=datetime.now().year-df.member_birth_year,\n",
    "              start_time_hour=df.start_time.dt.time,\n",
    "              end_time_hour=df.end_time.dt.time,\n",
    "              start_day_name=df.start_time.dt.day_name()\n",
    "              \n",
    "          )\n",
    "            .dropna() \n",
    "          .astype({\n",
    "            'user_type':'category',\n",
    "            'member_gender':'category',\n",
    "            'age':'int'\n",
    "            \n",
    "            \n",
    "        }\n",
    "        \n",
    "        \n",
    "        )\n",
    "\n",
    "          )\n",
    "\n",
    "df_clean=tweak_df(df)"
   ]
  },
  {
   "cell_type": "code",
   "execution_count": 5,
   "metadata": {
    "scrolled": true,
    "slideshow": {
     "slide_type": "skip"
    }
   },
   "outputs": [
    {
     "data": {
      "text/html": [
       "<div>\n",
       "<style scoped>\n",
       "    .dataframe tbody tr th:only-of-type {\n",
       "        vertical-align: middle;\n",
       "    }\n",
       "\n",
       "    .dataframe tbody tr th {\n",
       "        vertical-align: top;\n",
       "    }\n",
       "\n",
       "    .dataframe thead th {\n",
       "        text-align: right;\n",
       "    }\n",
       "</style>\n",
       "<table border=\"1\" class=\"dataframe\">\n",
       "  <thead>\n",
       "    <tr style=\"text-align: right;\">\n",
       "      <th></th>\n",
       "      <th>duration_sec</th>\n",
       "      <th>start_time</th>\n",
       "      <th>end_time</th>\n",
       "      <th>start_station_id</th>\n",
       "      <th>start_station_name</th>\n",
       "      <th>start_station_latitude</th>\n",
       "      <th>start_station_longitude</th>\n",
       "      <th>end_station_id</th>\n",
       "      <th>end_station_name</th>\n",
       "      <th>end_station_latitude</th>\n",
       "      <th>...</th>\n",
       "      <th>bike_id</th>\n",
       "      <th>user_type</th>\n",
       "      <th>member_birth_year</th>\n",
       "      <th>member_gender</th>\n",
       "      <th>bike_share_for_all_trip</th>\n",
       "      <th>duration_minutes</th>\n",
       "      <th>age</th>\n",
       "      <th>start_time_hour</th>\n",
       "      <th>end_time_hour</th>\n",
       "      <th>start_day_name</th>\n",
       "    </tr>\n",
       "  </thead>\n",
       "  <tbody>\n",
       "    <tr>\n",
       "      <th>0</th>\n",
       "      <td>52185</td>\n",
       "      <td>2019-02-28 17:32:10.145</td>\n",
       "      <td>2019-03-01 08:01:55.975</td>\n",
       "      <td>21.0</td>\n",
       "      <td>Montgomery St BART Station (Market St at 2nd St)</td>\n",
       "      <td>37.789625</td>\n",
       "      <td>-122.400811</td>\n",
       "      <td>13.0</td>\n",
       "      <td>Commercial St at Montgomery St</td>\n",
       "      <td>37.794231</td>\n",
       "      <td>...</td>\n",
       "      <td>4902</td>\n",
       "      <td>Customer</td>\n",
       "      <td>1970-01-01 00:00:00.000001984</td>\n",
       "      <td>Male</td>\n",
       "      <td>No</td>\n",
       "      <td>869.750000</td>\n",
       "      <td>38</td>\n",
       "      <td>17:32:10.145000</td>\n",
       "      <td>08:01:55.975000</td>\n",
       "      <td>Thursday</td>\n",
       "    </tr>\n",
       "    <tr>\n",
       "      <th>2</th>\n",
       "      <td>61854</td>\n",
       "      <td>2019-02-28 12:13:13.218</td>\n",
       "      <td>2019-03-01 05:24:08.146</td>\n",
       "      <td>86.0</td>\n",
       "      <td>Market St at Dolores St</td>\n",
       "      <td>37.769305</td>\n",
       "      <td>-122.426826</td>\n",
       "      <td>3.0</td>\n",
       "      <td>Powell St BART Station (Market St at 4th St)</td>\n",
       "      <td>37.786375</td>\n",
       "      <td>...</td>\n",
       "      <td>5905</td>\n",
       "      <td>Customer</td>\n",
       "      <td>1970-01-01 00:00:00.000001972</td>\n",
       "      <td>Male</td>\n",
       "      <td>No</td>\n",
       "      <td>1030.900000</td>\n",
       "      <td>50</td>\n",
       "      <td>12:13:13.218000</td>\n",
       "      <td>05:24:08.146000</td>\n",
       "      <td>Thursday</td>\n",
       "    </tr>\n",
       "    <tr>\n",
       "      <th>3</th>\n",
       "      <td>36490</td>\n",
       "      <td>2019-02-28 17:54:26.010</td>\n",
       "      <td>2019-03-01 04:02:36.842</td>\n",
       "      <td>375.0</td>\n",
       "      <td>Grove St at Masonic Ave</td>\n",
       "      <td>37.774836</td>\n",
       "      <td>-122.446546</td>\n",
       "      <td>70.0</td>\n",
       "      <td>Central Ave at Fell St</td>\n",
       "      <td>37.773311</td>\n",
       "      <td>...</td>\n",
       "      <td>6638</td>\n",
       "      <td>Subscriber</td>\n",
       "      <td>1970-01-01 00:00:00.000001989</td>\n",
       "      <td>Other</td>\n",
       "      <td>No</td>\n",
       "      <td>608.166667</td>\n",
       "      <td>33</td>\n",
       "      <td>17:54:26.010000</td>\n",
       "      <td>04:02:36.842000</td>\n",
       "      <td>Thursday</td>\n",
       "    </tr>\n",
       "    <tr>\n",
       "      <th>4</th>\n",
       "      <td>1585</td>\n",
       "      <td>2019-02-28 23:54:18.549</td>\n",
       "      <td>2019-03-01 00:20:44.074</td>\n",
       "      <td>7.0</td>\n",
       "      <td>Frank H Ogawa Plaza</td>\n",
       "      <td>37.804562</td>\n",
       "      <td>-122.271738</td>\n",
       "      <td>222.0</td>\n",
       "      <td>10th Ave at E 15th St</td>\n",
       "      <td>37.792714</td>\n",
       "      <td>...</td>\n",
       "      <td>4898</td>\n",
       "      <td>Subscriber</td>\n",
       "      <td>1970-01-01 00:00:00.000001974</td>\n",
       "      <td>Male</td>\n",
       "      <td>Yes</td>\n",
       "      <td>26.416667</td>\n",
       "      <td>48</td>\n",
       "      <td>23:54:18.549000</td>\n",
       "      <td>00:20:44.074000</td>\n",
       "      <td>Thursday</td>\n",
       "    </tr>\n",
       "    <tr>\n",
       "      <th>5</th>\n",
       "      <td>1793</td>\n",
       "      <td>2019-02-28 23:49:58.632</td>\n",
       "      <td>2019-03-01 00:19:51.760</td>\n",
       "      <td>93.0</td>\n",
       "      <td>4th St at Mission Bay Blvd S</td>\n",
       "      <td>37.770407</td>\n",
       "      <td>-122.391198</td>\n",
       "      <td>323.0</td>\n",
       "      <td>Broadway at Kearny</td>\n",
       "      <td>37.798014</td>\n",
       "      <td>...</td>\n",
       "      <td>5200</td>\n",
       "      <td>Subscriber</td>\n",
       "      <td>1970-01-01 00:00:00.000001959</td>\n",
       "      <td>Male</td>\n",
       "      <td>No</td>\n",
       "      <td>29.883333</td>\n",
       "      <td>63</td>\n",
       "      <td>23:49:58.632000</td>\n",
       "      <td>00:19:51.760000</td>\n",
       "      <td>Thursday</td>\n",
       "    </tr>\n",
       "  </tbody>\n",
       "</table>\n",
       "<p>5 rows × 21 columns</p>\n",
       "</div>"
      ],
      "text/plain": [
       "   duration_sec              start_time                end_time  \\\n",
       "0         52185 2019-02-28 17:32:10.145 2019-03-01 08:01:55.975   \n",
       "2         61854 2019-02-28 12:13:13.218 2019-03-01 05:24:08.146   \n",
       "3         36490 2019-02-28 17:54:26.010 2019-03-01 04:02:36.842   \n",
       "4          1585 2019-02-28 23:54:18.549 2019-03-01 00:20:44.074   \n",
       "5          1793 2019-02-28 23:49:58.632 2019-03-01 00:19:51.760   \n",
       "\n",
       "   start_station_id                                start_station_name  \\\n",
       "0              21.0  Montgomery St BART Station (Market St at 2nd St)   \n",
       "2              86.0                           Market St at Dolores St   \n",
       "3             375.0                           Grove St at Masonic Ave   \n",
       "4               7.0                               Frank H Ogawa Plaza   \n",
       "5              93.0                      4th St at Mission Bay Blvd S   \n",
       "\n",
       "   start_station_latitude  start_station_longitude  end_station_id  \\\n",
       "0               37.789625              -122.400811            13.0   \n",
       "2               37.769305              -122.426826             3.0   \n",
       "3               37.774836              -122.446546            70.0   \n",
       "4               37.804562              -122.271738           222.0   \n",
       "5               37.770407              -122.391198           323.0   \n",
       "\n",
       "                               end_station_name  end_station_latitude  ...  \\\n",
       "0                Commercial St at Montgomery St             37.794231  ...   \n",
       "2  Powell St BART Station (Market St at 4th St)             37.786375  ...   \n",
       "3                        Central Ave at Fell St             37.773311  ...   \n",
       "4                         10th Ave at E 15th St             37.792714  ...   \n",
       "5                            Broadway at Kearny             37.798014  ...   \n",
       "\n",
       "   bike_id   user_type             member_birth_year member_gender  \\\n",
       "0     4902    Customer 1970-01-01 00:00:00.000001984          Male   \n",
       "2     5905    Customer 1970-01-01 00:00:00.000001972          Male   \n",
       "3     6638  Subscriber 1970-01-01 00:00:00.000001989         Other   \n",
       "4     4898  Subscriber 1970-01-01 00:00:00.000001974          Male   \n",
       "5     5200  Subscriber 1970-01-01 00:00:00.000001959          Male   \n",
       "\n",
       "  bike_share_for_all_trip duration_minutes  age  start_time_hour  \\\n",
       "0                      No       869.750000   38  17:32:10.145000   \n",
       "2                      No      1030.900000   50  12:13:13.218000   \n",
       "3                      No       608.166667   33  17:54:26.010000   \n",
       "4                     Yes        26.416667   48  23:54:18.549000   \n",
       "5                      No        29.883333   63  23:49:58.632000   \n",
       "\n",
       "     end_time_hour start_day_name  \n",
       "0  08:01:55.975000       Thursday  \n",
       "2  05:24:08.146000       Thursday  \n",
       "3  04:02:36.842000       Thursday  \n",
       "4  00:20:44.074000       Thursday  \n",
       "5  00:19:51.760000       Thursday  \n",
       "\n",
       "[5 rows x 21 columns]"
      ]
     },
     "execution_count": 5,
     "metadata": {},
     "output_type": "execute_result"
    }
   ],
   "source": [
    "df_clean.head()"
   ]
  },
  {
   "cell_type": "markdown",
   "metadata": {
    "slideshow": {
     "slide_type": "skip"
    }
   },
   "source": [
    "### What is the structure of your dataset?\n",
    "\n",
    "the data set contains 183412 raws and 16 columns among the columns are(duration_sec,start_time,start_station_name,start_station_latitude,start_station_longitude,end_station_latitude,end_station_longitude,user_type,member_birth_year and member_gender. started_time and end_time are date type columns while user_type should be categerocal of either member or customer as well the member_gender.some data types are in other form however the general look of the data sets seems to to be satisfying for the purpose of this project. \n",
    "\n",
    "### What is/are the main feature(s) of interest in your dataset?\n",
    "\n",
    "i'm in interested in understanding the relationship between number of trips  and the user type. i also want to find that, how does being  a costomer or a substriber influences the number of duration of a trip. does days of the week have relationship with the number of trips. to find answer  to these questions, i will have create new features and use existing ones and dig down to get insights for the above sated questions. below are the features that are of interest from the dataset.\n",
    "  * user_type\n",
    "  * member_gender\n",
    "  * duration_hours \n",
    "  * start_day_name\n",
    "  * Age\n",
    "\n",
    "\n",
    "\n",
    "### What features in the dataset do you think will help support your investigation into your feature(s) of interest?\n",
    "I assume duration of the ride and type of user have strong correlation on the number of trips.i suspect that month and days of the week,time of day have influence of the total number of trips. Age also influences the number of trips made by uer type and their gender. i expect males to make most of the trips as men tendto use more on rides than any other gender.\n"
   ]
  },
  {
   "cell_type": "markdown",
   "metadata": {
    "slideshow": {
     "slide_type": "slide"
    }
   },
   "source": [
    "## Univariate Exploration\n",
    "\n"
   ]
  },
  {
   "cell_type": "code",
   "execution_count": 6,
   "metadata": {
    "scrolled": true,
    "slideshow": {
     "slide_type": "skip"
    }
   },
   "outputs": [
    {
     "data": {
      "text/html": [
       "<div>\n",
       "<style scoped>\n",
       "    .dataframe tbody tr th:only-of-type {\n",
       "        vertical-align: middle;\n",
       "    }\n",
       "\n",
       "    .dataframe tbody tr th {\n",
       "        vertical-align: top;\n",
       "    }\n",
       "\n",
       "    .dataframe thead th {\n",
       "        text-align: right;\n",
       "    }\n",
       "</style>\n",
       "<table border=\"1\" class=\"dataframe\">\n",
       "  <thead>\n",
       "    <tr style=\"text-align: right;\">\n",
       "      <th></th>\n",
       "      <th>count</th>\n",
       "      <th>mean</th>\n",
       "      <th>std</th>\n",
       "      <th>min</th>\n",
       "      <th>25%</th>\n",
       "      <th>50%</th>\n",
       "      <th>75%</th>\n",
       "      <th>max</th>\n",
       "    </tr>\n",
       "  </thead>\n",
       "  <tbody>\n",
       "    <tr>\n",
       "      <th>duration_sec</th>\n",
       "      <td>174952.0</td>\n",
       "      <td>704.002744</td>\n",
       "      <td>1642.204905</td>\n",
       "      <td>61.000000</td>\n",
       "      <td>323.000000</td>\n",
       "      <td>510.000000</td>\n",
       "      <td>789.000000</td>\n",
       "      <td>84548.000000</td>\n",
       "    </tr>\n",
       "    <tr>\n",
       "      <th>start_station_id</th>\n",
       "      <td>174952.0</td>\n",
       "      <td>139.002126</td>\n",
       "      <td>111.648819</td>\n",
       "      <td>3.000000</td>\n",
       "      <td>47.000000</td>\n",
       "      <td>104.000000</td>\n",
       "      <td>239.000000</td>\n",
       "      <td>398.000000</td>\n",
       "    </tr>\n",
       "    <tr>\n",
       "      <th>start_station_latitude</th>\n",
       "      <td>174952.0</td>\n",
       "      <td>37.771220</td>\n",
       "      <td>0.100391</td>\n",
       "      <td>37.317298</td>\n",
       "      <td>37.770407</td>\n",
       "      <td>37.780760</td>\n",
       "      <td>37.797320</td>\n",
       "      <td>37.880222</td>\n",
       "    </tr>\n",
       "    <tr>\n",
       "      <th>start_station_longitude</th>\n",
       "      <td>174952.0</td>\n",
       "      <td>-122.351760</td>\n",
       "      <td>0.117732</td>\n",
       "      <td>-122.453704</td>\n",
       "      <td>-122.411901</td>\n",
       "      <td>-122.398279</td>\n",
       "      <td>-122.283093</td>\n",
       "      <td>-121.874119</td>\n",
       "    </tr>\n",
       "    <tr>\n",
       "      <th>end_station_id</th>\n",
       "      <td>174952.0</td>\n",
       "      <td>136.604486</td>\n",
       "      <td>111.335635</td>\n",
       "      <td>3.000000</td>\n",
       "      <td>44.000000</td>\n",
       "      <td>101.000000</td>\n",
       "      <td>238.000000</td>\n",
       "      <td>398.000000</td>\n",
       "    </tr>\n",
       "    <tr>\n",
       "      <th>end_station_latitude</th>\n",
       "      <td>174952.0</td>\n",
       "      <td>37.771414</td>\n",
       "      <td>0.100295</td>\n",
       "      <td>37.317298</td>\n",
       "      <td>37.770407</td>\n",
       "      <td>37.781010</td>\n",
       "      <td>37.797673</td>\n",
       "      <td>37.880222</td>\n",
       "    </tr>\n",
       "    <tr>\n",
       "      <th>end_station_longitude</th>\n",
       "      <td>174952.0</td>\n",
       "      <td>-122.351335</td>\n",
       "      <td>0.117294</td>\n",
       "      <td>-122.453704</td>\n",
       "      <td>-122.411647</td>\n",
       "      <td>-122.397437</td>\n",
       "      <td>-122.286533</td>\n",
       "      <td>-121.874119</td>\n",
       "    </tr>\n",
       "    <tr>\n",
       "      <th>bike_id</th>\n",
       "      <td>174952.0</td>\n",
       "      <td>4482.587555</td>\n",
       "      <td>1659.195937</td>\n",
       "      <td>11.000000</td>\n",
       "      <td>3799.000000</td>\n",
       "      <td>4960.000000</td>\n",
       "      <td>5505.000000</td>\n",
       "      <td>6645.000000</td>\n",
       "    </tr>\n",
       "    <tr>\n",
       "      <th>duration_minutes</th>\n",
       "      <td>174952.0</td>\n",
       "      <td>11.733379</td>\n",
       "      <td>27.370082</td>\n",
       "      <td>1.016667</td>\n",
       "      <td>5.383333</td>\n",
       "      <td>8.500000</td>\n",
       "      <td>13.150000</td>\n",
       "      <td>1409.133333</td>\n",
       "    </tr>\n",
       "    <tr>\n",
       "      <th>age</th>\n",
       "      <td>174952.0</td>\n",
       "      <td>37.196865</td>\n",
       "      <td>10.118731</td>\n",
       "      <td>21.000000</td>\n",
       "      <td>30.000000</td>\n",
       "      <td>35.000000</td>\n",
       "      <td>42.000000</td>\n",
       "      <td>144.000000</td>\n",
       "    </tr>\n",
       "  </tbody>\n",
       "</table>\n",
       "</div>"
      ],
      "text/plain": [
       "                            count         mean          std         min  \\\n",
       "duration_sec             174952.0   704.002744  1642.204905   61.000000   \n",
       "start_station_id         174952.0   139.002126   111.648819    3.000000   \n",
       "start_station_latitude   174952.0    37.771220     0.100391   37.317298   \n",
       "start_station_longitude  174952.0  -122.351760     0.117732 -122.453704   \n",
       "end_station_id           174952.0   136.604486   111.335635    3.000000   \n",
       "end_station_latitude     174952.0    37.771414     0.100295   37.317298   \n",
       "end_station_longitude    174952.0  -122.351335     0.117294 -122.453704   \n",
       "bike_id                  174952.0  4482.587555  1659.195937   11.000000   \n",
       "duration_minutes         174952.0    11.733379    27.370082    1.016667   \n",
       "age                      174952.0    37.196865    10.118731   21.000000   \n",
       "\n",
       "                                 25%          50%          75%           max  \n",
       "duration_sec              323.000000   510.000000   789.000000  84548.000000  \n",
       "start_station_id           47.000000   104.000000   239.000000    398.000000  \n",
       "start_station_latitude     37.770407    37.780760    37.797320     37.880222  \n",
       "start_station_longitude  -122.411901  -122.398279  -122.283093   -121.874119  \n",
       "end_station_id             44.000000   101.000000   238.000000    398.000000  \n",
       "end_station_latitude       37.770407    37.781010    37.797673     37.880222  \n",
       "end_station_longitude    -122.411647  -122.397437  -122.286533   -121.874119  \n",
       "bike_id                  3799.000000  4960.000000  5505.000000   6645.000000  \n",
       "duration_minutes            5.383333     8.500000    13.150000   1409.133333  \n",
       "age                        30.000000    35.000000    42.000000    144.000000  "
      ]
     },
     "execution_count": 6,
     "metadata": {},
     "output_type": "execute_result"
    }
   ],
   "source": [
    "df_clean.describe().T"
   ]
  },
  {
   "cell_type": "code",
   "execution_count": 7,
   "metadata": {
    "slideshow": {
     "slide_type": "skip"
    }
   },
   "outputs": [],
   "source": [
    "reset_color=sb.color_palette()[0] # rseting color to avoid distraction"
   ]
  },
  {
   "cell_type": "markdown",
   "metadata": {},
   "source": [
    "#### Before we start exloring our interest feature. let's drop some unnecessary columns plus get riding of outlier ."
   ]
  },
  {
   "cell_type": "code",
   "execution_count": 8,
   "metadata": {},
   "outputs": [],
   "source": [
    "def tweak_df(df):\n",
    "    return(df_clean\n",
    "         .drop(columns=['member_birth_year'])\n",
    "         \n",
    "          .query(\"duration_minutes<60\") # get duartion under 60\n",
    "            .query(\"age<80\") # get age under 80\n",
    "           .reset_index()\n",
    "           .drop(columns=['index']) # drop index\n",
    "          )\n",
    "\n",
    "\n",
    "df_clean=tweak_df(df)"
   ]
  },
  {
   "cell_type": "code",
   "execution_count": 9,
   "metadata": {},
   "outputs": [
    {
     "data": {
      "text/html": [
       "<div>\n",
       "<style scoped>\n",
       "    .dataframe tbody tr th:only-of-type {\n",
       "        vertical-align: middle;\n",
       "    }\n",
       "\n",
       "    .dataframe tbody tr th {\n",
       "        vertical-align: top;\n",
       "    }\n",
       "\n",
       "    .dataframe thead th {\n",
       "        text-align: right;\n",
       "    }\n",
       "</style>\n",
       "<table border=\"1\" class=\"dataframe\">\n",
       "  <thead>\n",
       "    <tr style=\"text-align: right;\">\n",
       "      <th></th>\n",
       "      <th>duration_sec</th>\n",
       "      <th>start_time</th>\n",
       "      <th>end_time</th>\n",
       "      <th>start_station_id</th>\n",
       "      <th>start_station_name</th>\n",
       "      <th>start_station_latitude</th>\n",
       "      <th>start_station_longitude</th>\n",
       "      <th>end_station_id</th>\n",
       "      <th>end_station_name</th>\n",
       "      <th>end_station_latitude</th>\n",
       "      <th>end_station_longitude</th>\n",
       "      <th>bike_id</th>\n",
       "      <th>user_type</th>\n",
       "      <th>member_gender</th>\n",
       "      <th>bike_share_for_all_trip</th>\n",
       "      <th>duration_minutes</th>\n",
       "      <th>age</th>\n",
       "      <th>start_time_hour</th>\n",
       "      <th>end_time_hour</th>\n",
       "      <th>start_day_name</th>\n",
       "    </tr>\n",
       "  </thead>\n",
       "  <tbody>\n",
       "    <tr>\n",
       "      <th>0</th>\n",
       "      <td>1585</td>\n",
       "      <td>2019-02-28 23:54:18.549</td>\n",
       "      <td>2019-03-01 00:20:44.074</td>\n",
       "      <td>7.0</td>\n",
       "      <td>Frank H Ogawa Plaza</td>\n",
       "      <td>37.804562</td>\n",
       "      <td>-122.271738</td>\n",
       "      <td>222.0</td>\n",
       "      <td>10th Ave at E 15th St</td>\n",
       "      <td>37.792714</td>\n",
       "      <td>-122.248780</td>\n",
       "      <td>4898</td>\n",
       "      <td>Subscriber</td>\n",
       "      <td>Male</td>\n",
       "      <td>Yes</td>\n",
       "      <td>26.416667</td>\n",
       "      <td>48</td>\n",
       "      <td>23:54:18.549000</td>\n",
       "      <td>00:20:44.074000</td>\n",
       "      <td>Thursday</td>\n",
       "    </tr>\n",
       "    <tr>\n",
       "      <th>1</th>\n",
       "      <td>1793</td>\n",
       "      <td>2019-02-28 23:49:58.632</td>\n",
       "      <td>2019-03-01 00:19:51.760</td>\n",
       "      <td>93.0</td>\n",
       "      <td>4th St at Mission Bay Blvd S</td>\n",
       "      <td>37.770407</td>\n",
       "      <td>-122.391198</td>\n",
       "      <td>323.0</td>\n",
       "      <td>Broadway at Kearny</td>\n",
       "      <td>37.798014</td>\n",
       "      <td>-122.405950</td>\n",
       "      <td>5200</td>\n",
       "      <td>Subscriber</td>\n",
       "      <td>Male</td>\n",
       "      <td>No</td>\n",
       "      <td>29.883333</td>\n",
       "      <td>63</td>\n",
       "      <td>23:49:58.632000</td>\n",
       "      <td>00:19:51.760000</td>\n",
       "      <td>Thursday</td>\n",
       "    </tr>\n",
       "    <tr>\n",
       "      <th>2</th>\n",
       "      <td>1147</td>\n",
       "      <td>2019-02-28 23:55:35.104</td>\n",
       "      <td>2019-03-01 00:14:42.588</td>\n",
       "      <td>300.0</td>\n",
       "      <td>Palm St at Willow St</td>\n",
       "      <td>37.317298</td>\n",
       "      <td>-121.884995</td>\n",
       "      <td>312.0</td>\n",
       "      <td>San Jose Diridon Station</td>\n",
       "      <td>37.329732</td>\n",
       "      <td>-121.901782</td>\n",
       "      <td>3803</td>\n",
       "      <td>Subscriber</td>\n",
       "      <td>Female</td>\n",
       "      <td>No</td>\n",
       "      <td>19.116667</td>\n",
       "      <td>39</td>\n",
       "      <td>23:55:35.104000</td>\n",
       "      <td>00:14:42.588000</td>\n",
       "      <td>Thursday</td>\n",
       "    </tr>\n",
       "    <tr>\n",
       "      <th>3</th>\n",
       "      <td>1615</td>\n",
       "      <td>2019-02-28 23:41:06.766</td>\n",
       "      <td>2019-03-01 00:08:02.756</td>\n",
       "      <td>10.0</td>\n",
       "      <td>Washington St at Kearny St</td>\n",
       "      <td>37.795393</td>\n",
       "      <td>-122.404770</td>\n",
       "      <td>127.0</td>\n",
       "      <td>Valencia St at 21st St</td>\n",
       "      <td>37.756708</td>\n",
       "      <td>-122.421025</td>\n",
       "      <td>6329</td>\n",
       "      <td>Subscriber</td>\n",
       "      <td>Male</td>\n",
       "      <td>No</td>\n",
       "      <td>26.916667</td>\n",
       "      <td>33</td>\n",
       "      <td>23:41:06.766000</td>\n",
       "      <td>00:08:02.756000</td>\n",
       "      <td>Thursday</td>\n",
       "    </tr>\n",
       "    <tr>\n",
       "      <th>4</th>\n",
       "      <td>1570</td>\n",
       "      <td>2019-02-28 23:41:48.790</td>\n",
       "      <td>2019-03-01 00:07:59.715</td>\n",
       "      <td>10.0</td>\n",
       "      <td>Washington St at Kearny St</td>\n",
       "      <td>37.795393</td>\n",
       "      <td>-122.404770</td>\n",
       "      <td>127.0</td>\n",
       "      <td>Valencia St at 21st St</td>\n",
       "      <td>37.756708</td>\n",
       "      <td>-122.421025</td>\n",
       "      <td>6548</td>\n",
       "      <td>Subscriber</td>\n",
       "      <td>Other</td>\n",
       "      <td>No</td>\n",
       "      <td>26.166667</td>\n",
       "      <td>34</td>\n",
       "      <td>23:41:48.790000</td>\n",
       "      <td>00:07:59.715000</td>\n",
       "      <td>Thursday</td>\n",
       "    </tr>\n",
       "    <tr>\n",
       "      <th>...</th>\n",
       "      <td>...</td>\n",
       "      <td>...</td>\n",
       "      <td>...</td>\n",
       "      <td>...</td>\n",
       "      <td>...</td>\n",
       "      <td>...</td>\n",
       "      <td>...</td>\n",
       "      <td>...</td>\n",
       "      <td>...</td>\n",
       "      <td>...</td>\n",
       "      <td>...</td>\n",
       "      <td>...</td>\n",
       "      <td>...</td>\n",
       "      <td>...</td>\n",
       "      <td>...</td>\n",
       "      <td>...</td>\n",
       "      <td>...</td>\n",
       "      <td>...</td>\n",
       "      <td>...</td>\n",
       "      <td>...</td>\n",
       "    </tr>\n",
       "    <tr>\n",
       "      <th>173329</th>\n",
       "      <td>480</td>\n",
       "      <td>2019-02-01 00:04:49.724</td>\n",
       "      <td>2019-02-01 00:12:50.034</td>\n",
       "      <td>27.0</td>\n",
       "      <td>Beale St at Harrison St</td>\n",
       "      <td>37.788059</td>\n",
       "      <td>-122.391865</td>\n",
       "      <td>324.0</td>\n",
       "      <td>Union Square (Powell St at Post St)</td>\n",
       "      <td>37.788300</td>\n",
       "      <td>-122.408531</td>\n",
       "      <td>4832</td>\n",
       "      <td>Subscriber</td>\n",
       "      <td>Male</td>\n",
       "      <td>No</td>\n",
       "      <td>8.000000</td>\n",
       "      <td>26</td>\n",
       "      <td>00:04:49.724000</td>\n",
       "      <td>00:12:50.034000</td>\n",
       "      <td>Friday</td>\n",
       "    </tr>\n",
       "    <tr>\n",
       "      <th>173330</th>\n",
       "      <td>313</td>\n",
       "      <td>2019-02-01 00:05:34.744</td>\n",
       "      <td>2019-02-01 00:10:48.502</td>\n",
       "      <td>21.0</td>\n",
       "      <td>Montgomery St BART Station (Market St at 2nd St)</td>\n",
       "      <td>37.789625</td>\n",
       "      <td>-122.400811</td>\n",
       "      <td>66.0</td>\n",
       "      <td>3rd St at Townsend St</td>\n",
       "      <td>37.778742</td>\n",
       "      <td>-122.392741</td>\n",
       "      <td>4960</td>\n",
       "      <td>Subscriber</td>\n",
       "      <td>Male</td>\n",
       "      <td>No</td>\n",
       "      <td>5.216667</td>\n",
       "      <td>38</td>\n",
       "      <td>00:05:34.744000</td>\n",
       "      <td>00:10:48.502000</td>\n",
       "      <td>Friday</td>\n",
       "    </tr>\n",
       "    <tr>\n",
       "      <th>173331</th>\n",
       "      <td>141</td>\n",
       "      <td>2019-02-01 00:06:05.549</td>\n",
       "      <td>2019-02-01 00:08:27.220</td>\n",
       "      <td>278.0</td>\n",
       "      <td>The Alameda at Bush St</td>\n",
       "      <td>37.331932</td>\n",
       "      <td>-121.904888</td>\n",
       "      <td>277.0</td>\n",
       "      <td>Morrison Ave at Julian St</td>\n",
       "      <td>37.333658</td>\n",
       "      <td>-121.908586</td>\n",
       "      <td>3824</td>\n",
       "      <td>Subscriber</td>\n",
       "      <td>Male</td>\n",
       "      <td>Yes</td>\n",
       "      <td>2.350000</td>\n",
       "      <td>32</td>\n",
       "      <td>00:06:05.549000</td>\n",
       "      <td>00:08:27.220000</td>\n",
       "      <td>Friday</td>\n",
       "    </tr>\n",
       "    <tr>\n",
       "      <th>173332</th>\n",
       "      <td>139</td>\n",
       "      <td>2019-02-01 00:05:34.360</td>\n",
       "      <td>2019-02-01 00:07:54.287</td>\n",
       "      <td>220.0</td>\n",
       "      <td>San Pablo Ave at MLK Jr Way</td>\n",
       "      <td>37.811351</td>\n",
       "      <td>-122.273422</td>\n",
       "      <td>216.0</td>\n",
       "      <td>San Pablo Ave at 27th St</td>\n",
       "      <td>37.817827</td>\n",
       "      <td>-122.275698</td>\n",
       "      <td>5095</td>\n",
       "      <td>Subscriber</td>\n",
       "      <td>Male</td>\n",
       "      <td>No</td>\n",
       "      <td>2.316667</td>\n",
       "      <td>34</td>\n",
       "      <td>00:05:34.360000</td>\n",
       "      <td>00:07:54.287000</td>\n",
       "      <td>Friday</td>\n",
       "    </tr>\n",
       "    <tr>\n",
       "      <th>173333</th>\n",
       "      <td>271</td>\n",
       "      <td>2019-02-01 00:00:20.636</td>\n",
       "      <td>2019-02-01 00:04:52.058</td>\n",
       "      <td>24.0</td>\n",
       "      <td>Spear St at Folsom St</td>\n",
       "      <td>37.789677</td>\n",
       "      <td>-122.390428</td>\n",
       "      <td>37.0</td>\n",
       "      <td>2nd St at Folsom St</td>\n",
       "      <td>37.785000</td>\n",
       "      <td>-122.395936</td>\n",
       "      <td>1057</td>\n",
       "      <td>Subscriber</td>\n",
       "      <td>Male</td>\n",
       "      <td>No</td>\n",
       "      <td>4.516667</td>\n",
       "      <td>33</td>\n",
       "      <td>00:00:20.636000</td>\n",
       "      <td>00:04:52.058000</td>\n",
       "      <td>Friday</td>\n",
       "    </tr>\n",
       "  </tbody>\n",
       "</table>\n",
       "<p>173334 rows × 20 columns</p>\n",
       "</div>"
      ],
      "text/plain": [
       "        duration_sec              start_time                end_time  \\\n",
       "0               1585 2019-02-28 23:54:18.549 2019-03-01 00:20:44.074   \n",
       "1               1793 2019-02-28 23:49:58.632 2019-03-01 00:19:51.760   \n",
       "2               1147 2019-02-28 23:55:35.104 2019-03-01 00:14:42.588   \n",
       "3               1615 2019-02-28 23:41:06.766 2019-03-01 00:08:02.756   \n",
       "4               1570 2019-02-28 23:41:48.790 2019-03-01 00:07:59.715   \n",
       "...              ...                     ...                     ...   \n",
       "173329           480 2019-02-01 00:04:49.724 2019-02-01 00:12:50.034   \n",
       "173330           313 2019-02-01 00:05:34.744 2019-02-01 00:10:48.502   \n",
       "173331           141 2019-02-01 00:06:05.549 2019-02-01 00:08:27.220   \n",
       "173332           139 2019-02-01 00:05:34.360 2019-02-01 00:07:54.287   \n",
       "173333           271 2019-02-01 00:00:20.636 2019-02-01 00:04:52.058   \n",
       "\n",
       "        start_station_id                                start_station_name  \\\n",
       "0                    7.0                               Frank H Ogawa Plaza   \n",
       "1                   93.0                      4th St at Mission Bay Blvd S   \n",
       "2                  300.0                              Palm St at Willow St   \n",
       "3                   10.0                        Washington St at Kearny St   \n",
       "4                   10.0                        Washington St at Kearny St   \n",
       "...                  ...                                               ...   \n",
       "173329              27.0                           Beale St at Harrison St   \n",
       "173330              21.0  Montgomery St BART Station (Market St at 2nd St)   \n",
       "173331             278.0                            The Alameda at Bush St   \n",
       "173332             220.0                       San Pablo Ave at MLK Jr Way   \n",
       "173333              24.0                             Spear St at Folsom St   \n",
       "\n",
       "        start_station_latitude  start_station_longitude  end_station_id  \\\n",
       "0                    37.804562              -122.271738           222.0   \n",
       "1                    37.770407              -122.391198           323.0   \n",
       "2                    37.317298              -121.884995           312.0   \n",
       "3                    37.795393              -122.404770           127.0   \n",
       "4                    37.795393              -122.404770           127.0   \n",
       "...                        ...                      ...             ...   \n",
       "173329               37.788059              -122.391865           324.0   \n",
       "173330               37.789625              -122.400811            66.0   \n",
       "173331               37.331932              -121.904888           277.0   \n",
       "173332               37.811351              -122.273422           216.0   \n",
       "173333               37.789677              -122.390428            37.0   \n",
       "\n",
       "                           end_station_name  end_station_latitude  \\\n",
       "0                     10th Ave at E 15th St             37.792714   \n",
       "1                        Broadway at Kearny             37.798014   \n",
       "2                  San Jose Diridon Station             37.329732   \n",
       "3                    Valencia St at 21st St             37.756708   \n",
       "4                    Valencia St at 21st St             37.756708   \n",
       "...                                     ...                   ...   \n",
       "173329  Union Square (Powell St at Post St)             37.788300   \n",
       "173330                3rd St at Townsend St             37.778742   \n",
       "173331            Morrison Ave at Julian St             37.333658   \n",
       "173332             San Pablo Ave at 27th St             37.817827   \n",
       "173333                  2nd St at Folsom St             37.785000   \n",
       "\n",
       "        end_station_longitude  bike_id   user_type member_gender  \\\n",
       "0                 -122.248780     4898  Subscriber          Male   \n",
       "1                 -122.405950     5200  Subscriber          Male   \n",
       "2                 -121.901782     3803  Subscriber        Female   \n",
       "3                 -122.421025     6329  Subscriber          Male   \n",
       "4                 -122.421025     6548  Subscriber         Other   \n",
       "...                       ...      ...         ...           ...   \n",
       "173329            -122.408531     4832  Subscriber          Male   \n",
       "173330            -122.392741     4960  Subscriber          Male   \n",
       "173331            -121.908586     3824  Subscriber          Male   \n",
       "173332            -122.275698     5095  Subscriber          Male   \n",
       "173333            -122.395936     1057  Subscriber          Male   \n",
       "\n",
       "       bike_share_for_all_trip  duration_minutes  age  start_time_hour  \\\n",
       "0                          Yes         26.416667   48  23:54:18.549000   \n",
       "1                           No         29.883333   63  23:49:58.632000   \n",
       "2                           No         19.116667   39  23:55:35.104000   \n",
       "3                           No         26.916667   33  23:41:06.766000   \n",
       "4                           No         26.166667   34  23:41:48.790000   \n",
       "...                        ...               ...  ...              ...   \n",
       "173329                      No          8.000000   26  00:04:49.724000   \n",
       "173330                      No          5.216667   38  00:05:34.744000   \n",
       "173331                     Yes          2.350000   32  00:06:05.549000   \n",
       "173332                      No          2.316667   34  00:05:34.360000   \n",
       "173333                      No          4.516667   33  00:00:20.636000   \n",
       "\n",
       "          end_time_hour start_day_name  \n",
       "0       00:20:44.074000       Thursday  \n",
       "1       00:19:51.760000       Thursday  \n",
       "2       00:14:42.588000       Thursday  \n",
       "3       00:08:02.756000       Thursday  \n",
       "4       00:07:59.715000       Thursday  \n",
       "...                 ...            ...  \n",
       "173329  00:12:50.034000         Friday  \n",
       "173330  00:10:48.502000         Friday  \n",
       "173331  00:08:27.220000         Friday  \n",
       "173332  00:07:54.287000         Friday  \n",
       "173333  00:04:52.058000         Friday  \n",
       "\n",
       "[173334 rows x 20 columns]"
      ]
     },
     "execution_count": 9,
     "metadata": {},
     "output_type": "execute_result"
    }
   ],
   "source": [
    "df_clean"
   ]
  },
  {
   "cell_type": "markdown",
   "metadata": {
    "slideshow": {
     "slide_type": "slide"
    }
   },
   "source": [
    "# Question1: how does the distrubution of  duration in minutes look so as to grasp the nature of the distribution. "
   ]
  },
  {
   "cell_type": "code",
   "execution_count": 10,
   "metadata": {
    "scrolled": true,
    "slideshow": {
     "slide_type": "skip"
    }
   },
   "outputs": [
    {
     "data": {
      "text/plain": [
       "count    12.062976\n",
       "mean      2.333267\n",
       "std       2.000881\n",
       "min       0.016529\n",
       "25%       1.680207\n",
       "50%       2.134166\n",
       "75%       2.564949\n",
       "max       4.093233\n",
       "Name: duration_minutes, dtype: float64"
      ]
     },
     "execution_count": 10,
     "metadata": {},
     "output_type": "execute_result"
    }
   ],
   "source": [
    "np.log(df_clean.duration_minutes.describe())"
   ]
  },
  {
   "cell_type": "markdown",
   "metadata": {
    "slideshow": {
     "slide_type": "skip"
    }
   },
   "source": [
    "### Visualization"
   ]
  },
  {
   "cell_type": "code",
   "execution_count": 11,
   "metadata": {
    "scrolled": false,
    "slideshow": {
     "slide_type": "subslide"
    }
   },
   "outputs": [
    {
     "data": {
      "image/png": "[encoded data removed]",
      "text/plain": [
       "<Figure size 432x288 with 1 Axes>"
      ]
     },
     "metadata": {
      "needs_background": "light"
     },
     "output_type": "display_data"
    }
   ],
   "source": [
    "# setting log scale so as to avoid longer tail or streched distribution\n",
    "bins = 10 ** np.arange(0, 4+0.1, 0.2)\n",
    "plt.hist(data=df_clean, x='duration_minutes', bins=bins);\n",
    "ticks = [ 10, 30, 60]\n",
    "# Convert ticks into string values, to be displaye dlong the x-axis\n",
    "labels = ['{}'.format(v) for v in ticks]\n",
    "plt.title('distrubution of duration in minutes')\n",
    "plt.xlabel('duration in minutes')\n",
    "plt.ylabel('duration count');\n",
    "plt.xscale('log')\n",
    "\n",
    "plt.xticks(ticks, labels);"
   ]
  },
  {
   "cell_type": "markdown",
   "metadata": {
    "slideshow": {
     "slide_type": "skip"
    }
   },
   "source": [
    "#### Observation:the distrinution is right skewed and most of the trips took under 13 minutes. on avarage, every signle trip took atleast 1 minute. however there are some trips that took almost an hour and that could be influenced by starting latitiude and ending latitude."
   ]
  },
  {
   "cell_type": "markdown",
   "metadata": {
    "slideshow": {
     "slide_type": "slide"
    }
   },
   "source": [
    "# Question2: let's see the histogram data in a box plot to see visual picture of the 5-number summary."
   ]
  },
  {
   "cell_type": "markdown",
   "metadata": {
    "slideshow": {
     "slide_type": "skip"
    }
   },
   "source": [
    "##### Visualization"
   ]
  },
  {
   "cell_type": "code",
   "execution_count": 12,
   "metadata": {
    "scrolled": false,
    "slideshow": {
     "slide_type": "subslide"
    }
   },
   "outputs": [
    {
     "data": {
      "image/png": "[encoded data removed]",
      "text/plain": [
       "<Figure size 432x288 with 1 Axes>"
      ]
     },
     "metadata": {
      "needs_background": "light"
     },
     "output_type": "display_data"
    }
   ],
   "source": [
    "# let's see the histogram data in a box plot to see visual picture of the 5-number summary.\n",
    "\n",
    "sb.boxplot(df_clean['duration_minutes'])\n",
    "\n",
    "plt.show()"
   ]
  },
  {
   "cell_type": "markdown",
   "metadata": {},
   "source": [
    "##### Observation: the box plot shows that  most of the trips took 6-13 minutes. Avaragely, every signle trip took atleast 1 minute. however there are some trips that took almost an hour and above that could be influenced by features such as starting latitiude and ending latitude. but needs further investigation on why some trips lasts longer than others."
   ]
  },
  {
   "cell_type": "markdown",
   "metadata": {},
   "source": [
    "# Question3: observing the distribution of Age data"
   ]
  },
  {
   "cell_type": "markdown",
   "metadata": {
    "slideshow": {
     "slide_type": "slide"
    }
   },
   "source": [
    "### Visualization"
   ]
  },
  {
   "cell_type": "code",
   "execution_count": 13,
   "metadata": {
    "scrolled": false,
    "slideshow": {
     "slide_type": "subslide"
    }
   },
   "outputs": [
    {
     "data": {
      "image/png": "[encoded data removed]",
      "text/plain": [
       "<Figure size 576x360 with 1 Axes>"
      ]
     },
     "metadata": {
      "needs_background": "light"
     },
     "output_type": "display_data"
    }
   ],
   "source": [
    "# let's see the distribution of Age data\n",
    "binsize = 5\n",
    "bins = np.arange(20, df_clean['age'].max()+binsize, binsize)\n",
    "\n",
    "plt.figure(figsize=[8, 5])\n",
    "plt.hist(data = df_clean, x = 'age', bins = bins)\n",
    "plt.xlabel('age ($)')\n",
    "plt.show()"
   ]
  },
  {
   "cell_type": "markdown",
   "metadata": {
    "slideshow": {
     "slide_type": "skip"
    }
   },
   "source": [
    "observation:the distribtion of the age data is right skewed and the people who made the trips are largely from  approximately 21-40 years.most of the  people  who made the trip were below 50.let's see the histogram data in a box plot to see visual picture of the 5-number summary."
   ]
  },
  {
   "cell_type": "markdown",
   "metadata": {
    "slideshow": {
     "slide_type": "slide"
    }
   },
   "source": [
    "# Question4: let's see the histogram data in a box plot to see visual picture of the 5-number summary"
   ]
  },
  {
   "cell_type": "code",
   "execution_count": 14,
   "metadata": {
    "slideshow": {
     "slide_type": "subslide"
    }
   },
   "outputs": [
    {
     "data": {
      "image/png": "[encoded data removed]",
      "text/plain": [
       "<Figure size 432x288 with 1 Axes>"
      ]
     },
     "metadata": {
      "needs_background": "light"
     },
     "output_type": "display_data"
    }
   ],
   "source": [
    "# let's see the histogram data in a box plot to see visual picture of the 5-number summary.\n",
    "sb.boxplot(df_clean['age'])\n",
    "\n",
    "plt.show()"
   ]
  },
  {
   "cell_type": "markdown",
   "metadata": {},
   "source": [
    "##### observation:the distribtion of the age data is right skewed and the people who made the trips are largely from  approximately 21-40 years.most of the  people  who made the trip were below 50. as the age grows the trips decrement and this could be people are sickening while they age. however this could also mean that people who are between 21-42 years are either students or workers.there is significat ouliers and it's not logically reasonable for a person who's age is above 100 to  ride a bicycle. it's like that there was some errors when the data was been recorded."
   ]
  },
  {
   "cell_type": "markdown",
   "metadata": {},
   "source": [
    "\n",
    "\n"
   ]
  },
  {
   "cell_type": "markdown",
   "metadata": {
    "slideshow": {
     "slide_type": "slide"
    }
   },
   "source": [
    "# Question5: how is day of the week impact the total trips."
   ]
  },
  {
   "cell_type": "markdown",
   "metadata": {},
   "source": [
    "### Visualization"
   ]
  },
  {
   "cell_type": "code",
   "execution_count": 15,
   "metadata": {
    "scrolled": true,
    "slideshow": {
     "slide_type": "subslide"
    }
   },
   "outputs": [
    {
     "data": {
      "image/png": "[encoded data removed]",
      "text/plain": [
       "<Figure size 432x288 with 1 Axes>"
      ]
     },
     "metadata": {
      "needs_background": "light"
     },
     "output_type": "display_data"
    }
   ],
   "source": [
    "order=['Monday','Tuesday','Wednesday','Thursday','Friday','Saturday','Sunday']\n",
    "sb.countplot(data=df_clean, x='start_day_name',color=reset_color,order=order)\n",
    "plt.xticks(rotation=90);"
   ]
  },
  {
   "cell_type": "markdown",
   "metadata": {},
   "source": [
    "#### Observation: there seems to be a good relationship between the weekdays and number of rides. this could be an effect of user behaviour it seems some users are employers,students and while other seem to be using the bikes for pleasure. to find which type of user mostly rides on weekdays as opposed to weekends. we need to further study user types. "
   ]
  },
  {
   "cell_type": "markdown",
   "metadata": {},
   "source": [
    "# Question: how do differnt User types inpact the overall trips. "
   ]
  },
  {
   "cell_type": "code",
   "execution_count": 16,
   "metadata": {},
   "outputs": [],
   "source": [
    "# let's get the group under study that is Subscriber by first grouping the data into user_type\n",
    "# then get the Subscribers data\n",
    "# after that the Subscribers data is assigned to df_member variable\n",
    "# also the customer is assigned to df_Cutomer Vaiarible\n",
    "df_member=df_clean.groupby('user_type').get_group('Subscriber')\n",
    "df_customer=df_clean.groupby('user_type').get_group('Customer')\n"
   ]
  },
  {
   "cell_type": "code",
   "execution_count": 17,
   "metadata": {},
   "outputs": [
    {
     "data": {
      "text/plain": [
       "Subscriber    157483\n",
       "Customer       15851\n",
       "Name: user_type, dtype: int64"
      ]
     },
     "execution_count": 17,
     "metadata": {},
     "output_type": "execute_result"
    }
   ],
   "source": [
    "# we have 158386 Subscribers and 16566 Customers\n",
    "df_clean.user_type.value_counts()"
   ]
  },
  {
   "cell_type": "markdown",
   "metadata": {},
   "source": [
    "### Visualization"
   ]
  },
  {
   "cell_type": "code",
   "execution_count": 18,
   "metadata": {
    "scrolled": true
   },
   "outputs": [
    {
     "data": {
      "image/png": "[encoded data removed]",
      "text/plain": [
       "<Figure size 432x288 with 1 Axes>"
      ]
     },
     "metadata": {
      "needs_background": "light"
     },
     "output_type": "display_data"
    }
   ],
   "source": [
    "# visualizing subsrcribers trips\n",
    "order=['Monday','Tuesday','Wednesday','Thursday','Friday','Saturday','Sunday']\n",
    "sb.countplot(data=df_member, x='start_day_name',color=reset_color,order=order)\n",
    "plt.xticks(rotation=90);"
   ]
  },
  {
   "cell_type": "markdown",
   "metadata": {},
   "source": [
    "#### Observation: days of the week has direct impact on member trips as the days Thursday and tuesday are mad more that 27000 trips. this could be effect on factors such as work, school and other activites such as gym and the statement is supported by the fewer trips on sunday and saturday as people seem to doing nothing on these days,"
   ]
  },
  {
   "cell_type": "code",
   "execution_count": 19,
   "metadata": {
    "scrolled": false
   },
   "outputs": [
    {
     "data": {
      "image/png": "[encoded data removed]",
      "text/plain": [
       "<Figure size 432x288 with 1 Axes>"
      ]
     },
     "metadata": {
      "needs_background": "light"
     },
     "output_type": "display_data"
    }
   ],
   "source": [
    "# visualizing customers trips\n",
    "order=['Monday','Tuesday','Wednesday','Thursday','Friday','Saturday','Sunday'] # using it for ordering by index\n",
    "sb.countplot(data=df_customer, x='start_day_name',color=reset_color,order=order)\n",
    "plt.xticks(rotation=90);"
   ]
  },
  {
   "cell_type": "markdown",
   "metadata": {},
   "source": [
    "#### Observation:Both Customers and Subscribers ride mostly on Thursdays however customers seem to be riding most of the week as number of rides for subscribers decrement on weekends. to find why we need to investigate other features such as latatude and longtatude. which i will cover on Multivariate section."
   ]
  },
  {
   "cell_type": "markdown",
   "metadata": {
    "slideshow": {
     "slide_type": "slide"
    }
   },
   "source": [
    "# Question:let's see how gender  impacts on the number of trips"
   ]
  },
  {
   "cell_type": "markdown",
   "metadata": {},
   "source": [
    "#### Visualization"
   ]
  },
  {
   "cell_type": "code",
   "execution_count": 20,
   "metadata": {
    "scrolled": false,
    "slideshow": {
     "slide_type": "subslide"
    }
   },
   "outputs": [
    {
     "data": {
      "image/png": "[encoded data removed]",
      "text/plain": [
       "<Figure size 432x288 with 1 Axes>"
      ]
     },
     "metadata": {
      "needs_background": "light"
     },
     "output_type": "display_data"
    }
   ],
   "source": [
    "# we will contnue using the grouping of users in their respective variables done in above section.\n",
    "# But first let's see the overal impact of gender to the total trips \n",
    "order = df_clean['member_gender'].value_counts().index\n",
    "sb.countplot(data=df_clean, x='member_gender',color=reset_color,order=order)\n",
    "plt.xticks(rotation=90);"
   ]
  },
  {
   "cell_type": "markdown",
   "metadata": {},
   "source": [
    "#### Observation: male seems to be the dominant gender that rides most of the trips while female comes next and others make the least trip riders."
   ]
  },
  {
   "cell_type": "markdown",
   "metadata": {},
   "source": [
    "# Question: how much do female subsribers impact the total trips per week made by the subsribers group."
   ]
  },
  {
   "cell_type": "markdown",
   "metadata": {},
   "source": [
    "### Visualization"
   ]
  },
  {
   "cell_type": "code",
   "execution_count": 21,
   "metadata": {
    "scrolled": false
   },
   "outputs": [
    {
     "data": {
      "image/png": "[encoded data removed]",
      "text/plain": [
       "<Figure size 432x288 with 1 Axes>"
      ]
     },
     "metadata": {},
     "output_type": "display_data"
    }
   ],
   "source": [
    "# get female group from the above df_member grouped data and assign to df_member_females then plot.\n",
    "sb.set_style(\"whitegrid\", {'axes.grid' : False})\n",
    "df_member_females=df_member.query(\"member_gender=='Female'\")['start_day_name']\n",
    "\n",
    "order=['Monday','Tuesday','Wednesday','Thursday','Friday','Saturday','Sunday'] # using it for ordering by index\n",
    "sb.countplot(data=df_member, y=df_member_females,color=reset_color,order=order)\n",
    "plt.xticks(rotation=90);\n",
    "plt.title('the total Number of trips per week made by Female Subscribers.')\n",
    "plt.ylabel('Name of the Days')\n",
    "plt.xlabel('Number of Rides per day')\n",
    "plt.show();"
   ]
  },
  {
   "cell_type": "markdown",
   "metadata": {},
   "source": [
    "#### Observation: Female subs are do take most of the trips on thursday,tuesday and wednesday.they seem to be workers,students or early morning exercise.let's compare them with female customers."
   ]
  },
  {
   "cell_type": "markdown",
   "metadata": {},
   "source": [
    "# Question: how much do female subsribers impact the total trips per week made by the Customers Group."
   ]
  },
  {
   "cell_type": "markdown",
   "metadata": {},
   "source": [
    "### Visualization"
   ]
  },
  {
   "cell_type": "code",
   "execution_count": 22,
   "metadata": {
    "scrolled": false
   },
   "outputs": [
    {
     "data": {
      "image/png": "[encoded data removed]",
      "text/plain": [
       "<Figure size 432x288 with 1 Axes>"
      ]
     },
     "metadata": {},
     "output_type": "display_data"
    }
   ],
   "source": [
    "# get female group from the above df_customer grouped data and assign to df_sub_females then plot.\n",
    "sb.set_style(\"whitegrid\", {'axes.grid' : False})\n",
    "df_sub_females=df_customer.query(\"member_gender=='Female'\")['start_day_name']\n",
    "\n",
    "order=['Monday','Tuesday','Wednesday','Thursday','Friday','Saturday','Sunday'] # using it for ordering by index\n",
    "sb.countplot(data=df_member, y=df_sub_females,color=reset_color,order=order)\n",
    "plt.xticks(rotation=90);\n",
    "plt.title('the total Number of trips per week made by Female Customers.')\n",
    "plt.ylabel('Name of the Days')\n",
    "plt.xlabel('Number of Rides per day')\n",
    "plt.show();"
   ]
  },
  {
   "cell_type": "markdown",
   "metadata": {},
   "source": [
    "#### Observation: female costomer has large impcted on the total trips made by customer per week.they more likely make their trips significantly on Thursdays and sundays followed by monday. this could be affected by factors such as climate and customer behaviour. however other features such as longtitude and latitude could tell more about these female customer."
   ]
  },
  {
   "cell_type": "markdown",
   "metadata": {},
   "source": [
    "### Discuss the distribution(s) of your variable(s) of interest. Were there any unusual points? Did you need to perform any transformations?\n",
    "\n",
    ">  I Started with duration of trips in hours and found that the data distrubution was right skewed most trips do take between 1 min to 13 mins. 75% of the trips were under 13 minutes. however they were some trips which took almost 24 hours that allowed the data to have a long tail. regarding, i transformed the data, however the question on why certain trips take long hours is still answerd looking forward to their solution on next section by compating with other features.\n",
    "\n",
    "> I continued exploring with feature age and found out that 75% of the people aged below 42 and above 21. most of the people are the aged 21-35. however there were extremly outliers which lead to long tail distrubtion and becouse of that i prformed transformation. t's not logically reasonable for a person who's age is above 100 to  ride a bicycle. it's like that there was some errors when the data was been recorded\n",
    "\n",
    "> Finally i studied user types and their contribution of the overal trips. males seems to be the dominant gender that rides most of the trips while female comes next and others make the least trip riders. i further investigated on how female customers and subsrcibers inlfunced the total trips per week.Both Customers and Subscribers ride mostly on Thursdays however customers seem to be riding most of the week as number of rides for subscribers decrement on weekends.\n",
    "\n",
    "### Of the features you investigated, were there any unusual distributions? Did you perform any operations on the data to tidy, adjust, or change the form of the data? If so, why did you do this?\n",
    "\n",
    "> The feature of age had significat outliers that was bound to human error at the time of recording, regarding i removed those individuals who aged 50 as the data indicates more that 75% of trips were made by people below 42 years, removing them would not affect the purpose of the project. also duration of trip above 60 minutes were droped so that significat outliers do not strech or affect the data."
   ]
  },
  {
   "cell_type": "markdown",
   "metadata": {},
   "source": [
    "## Bivariate Exploration\n",
    "\n"
   ]
  },
  {
   "cell_type": "markdown",
   "metadata": {},
   "source": [
    "# Question: let's see the relationship between age and user type"
   ]
  },
  {
   "cell_type": "markdown",
   "metadata": {},
   "source": [
    "### visualization"
   ]
  },
  {
   "cell_type": "code",
   "execution_count": 23,
   "metadata": {},
   "outputs": [
    {
     "data": {
      "image/png": "[encoded data removed]",
      "text/plain": [
       "<Figure size 432x288 with 1 Axes>"
      ]
     },
     "metadata": {},
     "output_type": "display_data"
    }
   ],
   "source": [
    "# since one feature is quantitative and the other is categorical, we use violin plot\n",
    "sb.violinplot(data=df_clean, x='user_type', y='age',color=reset_color); "
   ]
  },
  {
   "cell_type": "markdown",
   "metadata": {},
   "source": [
    "#### Observation: 75 % of the trips were made by people who are below aged 42 and the user types seems to have similar age groups. this can be said that the company has overall clients who are between 21 to 42 who generate most revenues."
   ]
  },
  {
   "cell_type": "markdown",
   "metadata": {
    "slideshow": {
     "slide_type": "slide"
    }
   },
   "source": [
    "# Question: let's see the relationship between age and members gender"
   ]
  },
  {
   "cell_type": "markdown",
   "metadata": {},
   "source": [
    "### visualization"
   ]
  },
  {
   "cell_type": "code",
   "execution_count": 24,
   "metadata": {
    "slideshow": {
     "slide_type": "subslide"
    }
   },
   "outputs": [
    {
     "data": {
      "text/plain": [
       "(14.986223057140833, 84.31939817034927)"
      ]
     },
     "execution_count": 24,
     "metadata": {},
     "output_type": "execute_result"
    },
    {
     "data": {
      "image/png": "[encoded data removed]",
      "text/plain": [
       "<Figure size 432x288 with 2 Axes>"
      ]
     },
     "metadata": {},
     "output_type": "display_data"
    }
   ],
   "source": [
    "\n",
    "plt.subplot(1, 2, 1)\n",
    "# plot of the left is: violin plot\n",
    "ax1 = sb.violinplot(data=df_clean, x='member_gender', y='age', color=reset_color)\n",
    "plt.xticks(rotation=15);\n",
    "\n",
    "# plot of the right is: box plot\n",
    "plt.subplot(1, 2, 2)\n",
    "sb.boxplot(data=df_clean, x='member_gender', y='age', color=reset_color)\n",
    "plt.xticks(rotation=15);\n",
    "plt.ylim(ax1.get_ylim()) "
   ]
  },
  {
   "cell_type": "markdown",
   "metadata": {},
   "source": [
    "#### Observation: members have approximately same mean and this supports the above observation that regardless of gender type the companies clients revenue comes from people from between 21-42.others who did not or forget to identify themselves with male or female have greater mean than the rest of the group."
   ]
  },
  {
   "cell_type": "markdown",
   "metadata": {
    "slideshow": {
     "slide_type": "slide"
    }
   },
   "source": [
    "# Question: where do the higest  cilients of the company come from interms of gender."
   ]
  },
  {
   "cell_type": "markdown",
   "metadata": {
    "slideshow": {
     "slide_type": "skip"
    }
   },
   "source": [
    "### visualization"
   ]
  },
  {
   "cell_type": "code",
   "execution_count": 25,
   "metadata": {
    "scrolled": false,
    "slideshow": {
     "slide_type": "subslide"
    }
   },
   "outputs": [
    {
     "data": {
      "image/png": "[encoded data removed]",
      "text/plain": [
       "<Figure size 432x288 with 1 Axes>"
      ]
     },
     "metadata": {},
     "output_type": "display_data"
    }
   ],
   "source": [
    "sb.countplot(data = df_clean, x = 'member_gender', hue = 'user_type');"
   ]
  },
  {
   "cell_type": "markdown",
   "metadata": {},
   "source": [
    "#### Observation: females contribute less on customers but females subs are close to 40k. others are largely subsccribers while male are the highest controbuters of the overal subscribers and the highest on customers. this can be said that men are the trip makers of the company and bring the highest revenue."
   ]
  },
  {
   "cell_type": "code",
   "execution_count": 26,
   "metadata": {},
   "outputs": [],
   "source": [
    "# Use group_by() and size() to get the number of gender\n",
    "all_member=df_clean.groupby(['member_gender', 'user_type']).size()\n",
    "all_members=all_member.reset_index(name='count') # resing the index to be dataframe\n",
    "all_members=all_members.pivot(index = 'member_gender', columns = 'user_type', values = 'count')# pivot and changing coloumn names"
   ]
  },
  {
   "cell_type": "markdown",
   "metadata": {},
   "source": [
    "# Question: let's see user type's total trips with correspondet to their gender"
   ]
  },
  {
   "cell_type": "code",
   "execution_count": 27,
   "metadata": {
    "scrolled": false
   },
   "outputs": [
    {
     "data": {
      "image/png": "[encoded data removed]",
      "text/plain": [
       "<Figure size 432x288 with 2 Axes>"
      ]
     },
     "metadata": {},
     "output_type": "display_data"
    }
   ],
   "source": [
    "sb.heatmap(all_members, annot = True, fmt = 'd');"
   ]
  },
  {
   "cell_type": "markdown",
   "metadata": {},
   "source": [
    "#### Observation: the heatmap shows controbution of clients are their gender type. 432 others come from customers and 3138 from subscribers.male 119=029 from customers and 118356 from subs while females 35989 emerge from subs and 4390 from customers. this confirms my assumtion of most revenue are generated by males and that most trips are made by males."
   ]
  },
  {
   "cell_type": "markdown",
   "metadata": {},
   "source": [
    "### Talk about some of the relationships you observed in this part of the investigation. How did the feature(s) of interest vary with other features in the dataset?\n",
    "\n",
    "> members have approximately same mean and this supports the above observation that regardless of gender type the companies clients revenue comes from people from between 21-42.i further invetigated on this and found out that male were the most customers and subscribers 4390 and 35989 respectivly.\n",
    "\n",
    "### Did you observe any interesting relationships between the other features (not the main feature(s) of interest)?\n",
    "\n",
    "> after studying cutomer and subscribers,that it confirms my assumtion of most revenue are generated by males and that most trips are made by males."
   ]
  },
  {
   "cell_type": "markdown",
   "metadata": {},
   "source": [
    "## Multivariate Exploration\n",
    "\n"
   ]
  },
  {
   "cell_type": "markdown",
   "metadata": {
    "slideshow": {
     "slide_type": "slide"
    }
   },
   "source": [
    "# Question: what is the average age  of user type's gender"
   ]
  },
  {
   "cell_type": "markdown",
   "metadata": {},
   "source": [
    "### visualization"
   ]
  },
  {
   "cell_type": "code",
   "execution_count": 28,
   "metadata": {
    "scrolled": false,
    "slideshow": {
     "slide_type": "subslide"
    }
   },
   "outputs": [
    {
     "data": {
      "image/png": "[encoded data removed]",
      "text/plain": [
       "<Figure size 432x288 with 1 Axes>"
      ]
     },
     "metadata": {},
     "output_type": "display_data"
    }
   ],
   "source": [
    "\n",
    "ax = sb.pointplot(data = df_clean, x = 'user_type', y = 'age', hue = 'member_gender',\n",
    "           palette = 'Blues', linestyles = '', dodge = 0.4)\n",
    "plt.title(\" avarage of user type's gender age  \")\n",
    "plt.ylabel('age')\n",
    "\n",
    "\n",
    "\n",
    "plt.show();"
   ]
  },
  {
   "cell_type": "markdown",
   "metadata": {},
   "source": [
    "#### Observation: Average of customer's female age is around 36, while Average of males age os 37 and other make around 38. this assumtion was expected as always other type has greater mean when plotted with BoxPLot."
   ]
  },
  {
   "cell_type": "markdown",
   "metadata": {},
   "source": [
    "### let's see average  of user type's gender age in Box plot."
   ]
  },
  {
   "cell_type": "code",
   "execution_count": 29,
   "metadata": {
    "scrolled": false
   },
   "outputs": [
    {
     "data": {
      "image/png": "[encoded data removed]",
      "text/plain": [
       "<Figure size 576x288 with 2 Axes>"
      ]
     },
     "metadata": {},
     "output_type": "display_data"
    }
   ],
   "source": [
    "g = sb.FacetGrid(data = df_clean, col = 'user_type', size = 4)\n",
    "g.map(sb.boxplot, 'member_gender', 'age');"
   ]
  },
  {
   "cell_type": "markdown",
   "metadata": {},
   "source": [
    "#### Observation: as expected the overall clients of the trip riders are below 42 and above 21.the highest trips were made by males follwed by females."
   ]
  },
  {
   "cell_type": "markdown",
   "metadata": {},
   "source": [
    "# Question: let's see the number of duration of trips made by member the gender feature"
   ]
  },
  {
   "cell_type": "markdown",
   "metadata": {},
   "source": [
    "### Visaulization"
   ]
  },
  {
   "cell_type": "code",
   "execution_count": 30,
   "metadata": {
    "scrolled": true
   },
   "outputs": [
    {
     "data": {
      "image/png": "[encoded data removed]",
      "text/plain": [
       "<Figure size 576x288 with 2 Axes>"
      ]
     },
     "metadata": {},
     "output_type": "display_data"
    }
   ],
   "source": [
    "\n",
    "g = sb.FacetGrid(data = df_clean, col = 'user_type', size = 4)\n",
    "g.map(sb.boxplot, 'member_gender', 'duration_minutes');"
   ]
  },
  {
   "cell_type": "markdown",
   "metadata": {},
   "source": [
    "#### Observation: to my suprise cutomers are making longer duration trips than subscribers and the gender that makes longest duration in customers are females. this could however be slow riding of females due to their nature of care or females do ride in distance."
   ]
  },
  {
   "cell_type": "markdown",
   "metadata": {
    "slideshow": {
     "slide_type": "slide"
    }
   },
   "source": [
    "# Question: comparing the number of total trips made by each gender"
   ]
  },
  {
   "cell_type": "code",
   "execution_count": 31,
   "metadata": {
    "scrolled": false,
    "slideshow": {
     "slide_type": "subslide"
    }
   },
   "outputs": [
    {
     "data": {
      "image/png": "[encoded data removed]",
      "text/plain": [
       "<Figure size 432x288 with 1 Axes>"
      ]
     },
     "metadata": {},
     "output_type": "display_data"
    }
   ],
   "source": [
    "ax = sb.barplot(data = df_clean, x = 'member_gender', y = 'duration_minutes', hue = 'user_type')\n",
    "ax.legend(loc = 8, ncol = 3, framealpha = 1, title = 'user type');"
   ]
  },
  {
   "cell_type": "markdown",
   "metadata": {},
   "source": [
    "#### Observation: Finally  cutomers make longest duration. and the longest duration in a trip is made by  females."
   ]
  },
  {
   "cell_type": "markdown",
   "metadata": {},
   "source": [
    "### Talk about some of the relationships you observed in this part of the investigation. Were there features that strengthened each other in terms of looking at your feature(s) of interest?\n",
    "\n",
    "> subscribers make an average trip of below 12 while cutomers made an average of above 15 minutes.Other Gender types are the oldest who have made a trip on average of 11 minutes duration trip\n",
    "\n",
    "### Were there any interesting or surprising interactions between features?\n",
    "\n",
    "> To My suprise cutomers are making longer duration trips than subscribers and the gender that makes longest duration in customers are females. this could however be slow riding of females due to their nature of care or females do ride in distance."
   ]
  },
  {
   "cell_type": "markdown",
   "metadata": {},
   "source": [
    "## Conclusions\n",
    "> my main features of study were age,duration_mintes, user_type and member_gender.i first studied on each of them to understand their nature of distrubution. most of them were right skewed with stretched outliers which i later dropped. when started  comparing against each other i found that age  aginst user type. subscribers are the had oldest trip makers on average around 38 by specific group named others.the longest duration trips from cutomers group were made by females and this could be due to their nature of care or maybe females do ride in distance. however the question on why females ride lenth was longer than any other gender needs to be further investigated."
   ]
  }
 ],
 "metadata": {
  "kernelspec": {
   "display_name": "Python 3.10.2 ('minimal_ds')",
   "language": "python",
   "name": "python3"
  },
  "language_info": {
   "codemirror_mode": {
    "name": "ipython",
    "version": 3
   },
   "file_extension": ".py",
   "mimetype": "text/x-python",
   "name": "python",
   "nbconvert_exporter": "python",
   "pygments_lexer": "ipython3",
   "version": "3.10.2"
  },
  "vscode": {
   "interpreter": {
    "hash": "e86b704bc4b4a2d110ab101432ec787f9ecfbb4405734965a57e073f016d0489"
   }
  }
 },
 "nbformat": 4,
 "nbformat_minor": 2
}
